{
  "cells": [
    {
      "cell_type": "code",
      "execution_count": 5,
      "metadata": {
        "colab": {
          "base_uri": "https://localhost:8080/"
        },
        "id": "udSB5J6fhCtp",
        "outputId": "6b6bcd77-190e-4841-d9f1-cf68fd8c7c1e"
      },
      "outputs": [
        {
          "name": "stdout",
          "output_type": "stream",
          "text": [
            "GPU\n",
            "GPUs Count: 1\n"
          ]
        }
      ],
      "source": [
        "import torchvision.transforms as transforms\n",
        "import torch, os, cv2\n",
        "import torch.nn as nn\n",
        "import torchvision.transforms as T\n",
        "from torchvision import transforms\n",
        "from torch.utils.data import DataLoader, Dataset\n",
        "from PIL import Image\n",
        "from tqdm import tqdm\n",
        "import torch.optim as optim\n",
        "from torch.optim import lr_scheduler\n",
        "import numpy as np\n",
        "import matplotlib.pyplot as plt\n",
        "device = torch.device(\"cuda:0\" if torch.cuda.is_available() else \"cpu\")\n",
        "print('GPU') if str(device) == \"cuda:0\" else print('GPU not Detected - CPU Selected')\n",
        "print(f\"GPUs Count: {torch.cuda.device_count()}\")"
      ]
    },
    {
      "cell_type": "markdown",
      "metadata": {
        "id": "klmeb6UThCtr"
      },
      "source": [
        "### **Preparation of Data Loaders**"
      ]
    },
    {
      "cell_type": "code",
      "execution_count": 6,
      "metadata": {},
      "outputs": [],
      "source": [
        "my_batch_size = 64"
      ]
    },
    {
      "cell_type": "code",
      "execution_count": 7,
      "metadata": {
        "id": "TlV4UkFmhCtr"
      },
      "outputs": [],
      "source": [
        "class DensePointsDataset(Dataset):\n",
        "    def __init__(self, images_dir, masks_dir, transform=None, mask_transform=None):\n",
        "        self.images_dir = images_dir\n",
        "        self.masks_dir = masks_dir\n",
        "        self.image_files = sorted([f for f in os.listdir(images_dir) if f.lower().endswith(('.png'))])\n",
        "        self.mask_files = sorted([f for f in os.listdir(masks_dir) if f.lower().endswith(('.png'))])\n",
        "        self.transform = transform\n",
        "        self.mask_transform = mask_transform\n",
        "\n",
        "    def __len__(self):\n",
        "        return len(self.image_files)\n",
        "\n",
        "    def __getitem__(self, idx):\n",
        "        img_path = os.path.join(self.images_dir, self.image_files[idx])\n",
        "        mask_path = os.path.join(self.masks_dir, self.mask_files[idx])\n",
        "\n",
        "        image = Image.open(img_path).convert(\"RGB\")\n",
        "        mask = Image.open(mask_path).convert(\"L\")\n",
        "\n",
        "        if self.transform:\n",
        "            image = self.transform(image)\n",
        "        if self.mask_transform:\n",
        "            mask = self.mask_transform(mask)\n",
        "        mask = (mask > 0.5).float()    # Ensure mask is binary (0 or 1)\n",
        "        return image, mask\n",
        "\n",
        "image_transform = transforms.Compose([transforms.CenterCrop((480, 480)), transforms.ToTensor()])\n",
        "mask_transform = T.Compose([T.CenterCrop((480, 480)), T.ToTensor()])\n",
        "\n",
        "train_imgs = \"./TRAINING_DATA/Training_Set\"          # Provide Correct Path to Data\n",
        "train_masks = \"./TRAINING_DATA/Training_Labels\"      # Provide Correct Path to Data\n",
        "\n",
        "val_imgs = \"./TRAINING_DATA/Validation_Set\"          # Provide Correct Path to Data\n",
        "val_masks = \"./TRAINING_DATA/Validation_Labels\"      # Provide Correct Path to Data\n",
        "\n",
        "train_dataset = DensePointsDataset(images_dir=train_imgs, masks_dir=train_masks, transform=image_transform, mask_transform=mask_transform)\n",
        "val_dataset = DensePointsDataset(images_dir=val_imgs, masks_dir=val_masks, transform=image_transform, mask_transform=mask_transform)\n",
        "\n",
        "train_loader = DataLoader(train_dataset, batch_size=my_batch_size, shuffle=True, num_workers=2)\n",
        "val_loader = DataLoader(val_dataset, batch_size=my_batch_size, shuffle=False, num_workers=2)"
      ]
    },
    {
      "cell_type": "markdown",
      "metadata": {},
      "source": [
        "#### **ESPNet Model**"
      ]
    },
    {
      "cell_type": "code",
      "execution_count": 8,
      "metadata": {
        "id": "emWfK75MhCtr"
      },
      "outputs": [],
      "source": [
        "'''\n",
        "### Code Reference: https://github.com/sacmehta/ESPNet\n",
        "'''\n",
        "\n",
        "class CBR(nn.Module):\n",
        "    def __init__(self, nIn, nOut, kSize, stride=1):\n",
        "        super().__init__()\n",
        "        padding = int((kSize - 1)/2)\n",
        "        self.conv = nn.Conv2d(nIn, nOut, (kSize, kSize), stride=stride, padding=(padding, padding), bias=False)\n",
        "        self.bn = nn.BatchNorm2d(nOut, eps=1e-03)\n",
        "        self.act = nn.PReLU(nOut)\n",
        "\n",
        "    def forward(self, input):\n",
        "        output = self.conv(input)\n",
        "        output = self.bn(output)\n",
        "        output = self.act(output)\n",
        "        return output\n",
        "\n",
        "class BR(nn.Module):\n",
        "    def __init__(self, nOut):\n",
        "        super().__init__()\n",
        "        self.bn = nn.BatchNorm2d(nOut, eps=1e-03)\n",
        "        self.act = nn.PReLU(nOut)\n",
        "\n",
        "    def forward(self, input):\n",
        "        output = self.bn(input)\n",
        "        output = self.act(output)\n",
        "        return output\n",
        "\n",
        "class CB(nn.Module):\n",
        "    def __init__(self, nIn, nOut, kSize, stride=1):\n",
        "        super().__init__()\n",
        "        padding = int((kSize - 1)/2)\n",
        "        self.conv = nn.Conv2d(nIn, nOut, (kSize, kSize), stride=stride, padding=(padding, padding), bias=False)\n",
        "        self.bn = nn.BatchNorm2d(nOut, eps=1e-03)\n",
        "\n",
        "    def forward(self, input):\n",
        "        output = self.conv(input)\n",
        "        output = self.bn(output)\n",
        "        return output\n",
        "\n",
        "class C(nn.Module):\n",
        "    def __init__(self, nIn, nOut, kSize, stride=1):\n",
        "        super().__init__()\n",
        "        padding = int((kSize - 1)/2)\n",
        "        self.conv = nn.Conv2d(nIn, nOut, (kSize, kSize), stride=stride, padding=(padding, padding), bias=False)\n",
        "\n",
        "    def forward(self, input):\n",
        "        output = self.conv(input)\n",
        "        return output\n",
        "\n",
        "class CDilated(nn.Module):\n",
        "    def __init__(self, nIn, nOut, kSize, stride=1, d=1):\n",
        "        super().__init__()\n",
        "        padding = int((kSize - 1)/2) * d\n",
        "        self.conv = nn.Conv2d(nIn, nOut, (kSize, kSize), stride=stride, padding=(padding, padding), bias=False, dilation=d)\n",
        "\n",
        "    def forward(self, input):\n",
        "        output = self.conv(input)\n",
        "        return output\n",
        "\n",
        "class DownSamplerB(nn.Module):\n",
        "    def __init__(self, nIn, nOut):\n",
        "        super().__init__()\n",
        "        n = int(nOut/5)\n",
        "        n1 = nOut - 4*n\n",
        "        self.c1 = C(nIn, n, 3, 2)\n",
        "        self.d1 = CDilated(n, n1, 3, 1, 1)\n",
        "        self.d2 = CDilated(n, n, 3, 1, 2)\n",
        "        self.d4 = CDilated(n, n, 3, 1, 4)\n",
        "        self.d8 = CDilated(n, n, 3, 1, 8)\n",
        "        self.d16 = CDilated(n, n, 3, 1, 16)\n",
        "        self.bn = nn.BatchNorm2d(nOut, eps=1e-3)\n",
        "        self.act = nn.PReLU(nOut)\n",
        "\n",
        "    def forward(self, input):\n",
        "        output1 = self.c1(input)\n",
        "        d1 = self.d1(output1)\n",
        "        d2 = self.d2(output1)\n",
        "        d4 = self.d4(output1)\n",
        "        d8 = self.d8(output1)\n",
        "        d16 = self.d16(output1)\n",
        "        add1 = d2\n",
        "        add2 = add1 + d4\n",
        "        add3 = add2 + d8\n",
        "        add4 = add3 + d16\n",
        "        combine = torch.cat([d1, add1, add2, add3, add4],1)\n",
        "        output = self.bn(combine)\n",
        "        output = self.act(output)\n",
        "        return output\n",
        "\n",
        "class DilatedParllelResidualBlockB(nn.Module):\n",
        "    def __init__(self, nIn, nOut, add=True):\n",
        "        super().__init__()\n",
        "        n = int(nOut/5)\n",
        "        n1 = nOut - 4*n\n",
        "        self.c1 = C(nIn, n, 1, 1)\n",
        "        self.d1 = CDilated(n, n1, 3, 1, 1)  # dilation rate of 2^0\n",
        "        self.d2 = CDilated(n, n, 3, 1, 2)   # dilation rate of 2^1\n",
        "        self.d4 = CDilated(n, n, 3, 1, 4)   # dilation rate of 2^2\n",
        "        self.d8 = CDilated(n, n, 3, 1, 8)   # dilation rate of 2^3\n",
        "        self.d16 = CDilated(n, n, 3, 1, 16) # dilation rate of 2^4\n",
        "        self.bn = BR(nOut)\n",
        "        self.add = add\n",
        "\n",
        "    def forward(self, input):\n",
        "        output1 = self.c1(input)\n",
        "        d1 = self.d1(output1)\n",
        "        d2 = self.d2(output1)\n",
        "        d4 = self.d4(output1)\n",
        "        d8 = self.d8(output1)\n",
        "        d16 = self.d16(output1)\n",
        "        add1 = d2\n",
        "        add2 = add1 + d4\n",
        "        add3 = add2 + d8\n",
        "        add4 = add3 + d16\n",
        "        combine = torch.cat([d1, add1, add2, add3, add4], 1)\n",
        "        if self.add:\n",
        "            combine = input + combine\n",
        "        output = self.bn(combine)\n",
        "        return output\n",
        "\n",
        "class InputProjectionA(nn.Module):\n",
        "    def __init__(self, samplingTimes):\n",
        "        super().__init__()\n",
        "        self.pool = nn.ModuleList()\n",
        "        for i in range(0, samplingTimes):\n",
        "            self.pool.append(nn.AvgPool2d(3, stride=2, padding=1))\n",
        "\n",
        "    def forward(self, input):\n",
        "        for pool in self.pool:\n",
        "            input = pool(input)\n",
        "        return input\n",
        "\n",
        "class ESPNet_Encoder(nn.Module):\n",
        "    def __init__(self, channels, p, q):\n",
        "        super().__init__()\n",
        "        self.level1 = CBR(3, 16, 3, 2)\n",
        "        self.sample1 = InputProjectionA(1)\n",
        "        self.sample2 = InputProjectionA(2)\n",
        "        self.b1 = BR(16 + 3)\n",
        "        self.level2_0 = DownSamplerB(16 + 3, 64)\n",
        "        self.level2 = nn.ModuleList()\n",
        "        for i in range(0, p):\n",
        "            self.level2.append(DilatedParllelResidualBlockB(64 , 64))\n",
        "        self.b2 = BR(128 + 3)\n",
        "        self.level3_0 = DownSamplerB(128 + 3, 128)\n",
        "        self.level3 = nn.ModuleList()\n",
        "        for i in range(0, q):\n",
        "            self.level3.append(DilatedParllelResidualBlockB(128 , 128))\n",
        "        self.b3 = BR(256)\n",
        "        self.classifier = C(256, channels, 1, 1)\n",
        "\n",
        "    def forward(self, input):\n",
        "        output0 = self.level1(input)\n",
        "        inp1 = self.sample1(input)\n",
        "        inp2 = self.sample2(input)\n",
        "        output0_cat = self.b1(torch.cat([output0, inp1], 1))\n",
        "        output1_0 = self.level2_0(output0_cat)\n",
        "        \n",
        "        for i, layer in enumerate(self.level2):\n",
        "            if i==0:\n",
        "                output1 = layer(output1_0)\n",
        "            else:\n",
        "                output1 = layer(output1)\n",
        "\n",
        "        output1_cat = self.b2(torch.cat([output1,  output1_0, inp2], 1))\n",
        "        output2_0 = self.level3_0(output1_cat)\n",
        "        for i, layer in enumerate(self.level3):\n",
        "            if i==0:\n",
        "                output2 = layer(output2_0)\n",
        "            else:\n",
        "                output2 = layer(output2)\n",
        "        output2_cat = self.b3(torch.cat([output2_0, output2], 1))\n",
        "        classifier = self.classifier(output2_cat)\n",
        "        return classifier\n",
        "        \n",
        "class ESPNet(nn.Module):\n",
        "    def __init__(self, channels=10, final_class=1, p=5, q=9):\n",
        "        super().__init__()\n",
        "        self.encoder = ESPNet_Encoder(channels, p, q)\n",
        "        self.modules = []\n",
        "        for i, m in enumerate(self.encoder.children()):\n",
        "            self.modules.append(m)\n",
        "\n",
        "        self.level3_C = C(128 + 3, channels, 1, 1)\n",
        "        self.br = nn.BatchNorm2d(channels, eps=1e-03)\n",
        "        self.conv = CBR(19 + channels, channels, 3, 1)\n",
        "        self.up_l3 = nn.Sequential(nn.ConvTranspose2d(channels, channels, 2, stride=2, padding=0, output_padding=0, bias=False))\n",
        "        self.combine_l2_l3 = nn.Sequential(BR(2*channels), DilatedParllelResidualBlockB(2*channels , channels, add=False))\n",
        "        self.up_l2 = nn.Sequential(nn.ConvTranspose2d(channels, channels, 2, stride=2, padding=0, output_padding=0, bias=False), BR(channels))\n",
        "        self.classifier = nn.ConvTranspose2d(channels, final_class, 2, stride=2, padding=0, output_padding=0, bias=False)\n",
        "\n",
        "    def forward(self, input):\n",
        "        output0 = self.modules[0](input)\n",
        "        inp1 = self.modules[1](input)\n",
        "        inp2 = self.modules[2](input)\n",
        "\n",
        "        output0_cat = self.modules[3](torch.cat([output0, inp1], 1))\n",
        "        output1_0 = self.modules[4](output0_cat)\n",
        "        for i, layer in enumerate(self.modules[5]):\n",
        "            if i == 0:\n",
        "                output1 = layer(output1_0)\n",
        "            else:\n",
        "                output1 = layer(output1)\n",
        "\n",
        "        output1_cat = self.modules[6](torch.cat([output1, output1_0, inp2], 1))\n",
        "        output2_0 = self.modules[7](output1_cat)\n",
        "        for i, layer in enumerate(self.modules[8]):\n",
        "            if i == 0:\n",
        "                output2 = layer(output2_0)\n",
        "            else:\n",
        "                output2 = layer(output2)\n",
        "\n",
        "        output2_cat = self.modules[9](torch.cat([output2_0, output2], 1))\n",
        "        output2_c = self.up_l3(self.br(self.modules[10](output2_cat)))\n",
        "        output1_C = self.level3_C(output1_cat)\n",
        "        comb_l2_l3 = self.up_l2(self.combine_l2_l3(torch.cat([output1_C, output2_c], 1)))\n",
        "        concat_features = self.conv(torch.cat([comb_l2_l3, output0_cat], 1))\n",
        "        classifier = self.classifier(concat_features)\n",
        "        return classifier\n",
        "\n",
        "model = ESPNet().to(device)\n",
        "criterion = nn.BCEWithLogitsLoss()\n",
        "optimizer = optim.Adam(model.parameters(), lr=0.001)"
      ]
    },
    {
      "cell_type": "markdown",
      "metadata": {},
      "source": [
        "#### **Training and Validation**"
      ]
    },
    {
      "cell_type": "code",
      "execution_count": null,
      "metadata": {
        "colab": {
          "base_uri": "https://localhost:8080/"
        },
        "id": "JTuDwVEGhCts",
        "outputId": "e0dce8ee-f932-4539-910f-5b9e20d5e98f"
      },
      "outputs": [
        {
          "name": "stderr",
          "output_type": "stream",
          "text": [
            "Epoch [1/100]: 100%|██████████| 516/516 [02:16<00:00,  3.78it/s, loss=0.218]"
          ]
        },
        {
          "name": "stdout",
          "output_type": "stream",
          "text": [
            "Epoch 1/100 --- Train Loss: 0.3066\n"
          ]
        },
        {
          "name": "stderr",
          "output_type": "stream",
          "text": [
            "\n"
          ]
        },
        {
          "name": "stdout",
          "output_type": "stream",
          "text": [
            "*** Validation:   Train Loss: 0.3066 --- Val Loss: 0.1967\n",
            "Model saved with BEST val loss 0.1967\n"
          ]
        },
        {
          "name": "stderr",
          "output_type": "stream",
          "text": [
            "Epoch [2/100]: 100%|██████████| 516/516 [02:13<00:00,  3.86it/s, loss=0.209]"
          ]
        },
        {
          "name": "stdout",
          "output_type": "stream",
          "text": [
            "Epoch 2/100 --- Train Loss: 0.1988\n"
          ]
        },
        {
          "name": "stderr",
          "output_type": "stream",
          "text": [
            "\n"
          ]
        },
        {
          "name": "stdout",
          "output_type": "stream",
          "text": [
            "*** Validation:   Train Loss: 0.1988 --- Val Loss: 0.1702\n",
            "Model saved with BEST val loss 0.1702\n"
          ]
        },
        {
          "name": "stderr",
          "output_type": "stream",
          "text": [
            "Epoch [3/100]: 100%|██████████| 516/516 [02:12<00:00,  3.90it/s, loss=0.18] "
          ]
        },
        {
          "name": "stdout",
          "output_type": "stream",
          "text": [
            "Epoch 3/100 --- Train Loss: 0.1794\n"
          ]
        },
        {
          "name": "stderr",
          "output_type": "stream",
          "text": [
            "\n"
          ]
        },
        {
          "name": "stdout",
          "output_type": "stream",
          "text": [
            "*** Validation:   Train Loss: 0.1794 --- Val Loss: 0.1558\n",
            "Model saved with BEST val loss 0.1558\n"
          ]
        },
        {
          "name": "stderr",
          "output_type": "stream",
          "text": [
            "Epoch [4/100]: 100%|██████████| 516/516 [02:12<00:00,  3.88it/s, loss=0.177]"
          ]
        },
        {
          "name": "stdout",
          "output_type": "stream",
          "text": [
            "Epoch 4/100 --- Train Loss: 0.1697\n"
          ]
        },
        {
          "name": "stderr",
          "output_type": "stream",
          "text": [
            "\n"
          ]
        },
        {
          "name": "stdout",
          "output_type": "stream",
          "text": [
            "*** Validation:   Train Loss: 0.1697 --- Val Loss: 0.1536\n",
            "Model saved with BEST val loss 0.1536\n"
          ]
        },
        {
          "name": "stderr",
          "output_type": "stream",
          "text": [
            "Epoch [5/100]: 100%|██████████| 516/516 [02:12<00:00,  3.88it/s, loss=0.163]"
          ]
        },
        {
          "name": "stdout",
          "output_type": "stream",
          "text": [
            "Epoch 5/100 --- Train Loss: 0.1637\n"
          ]
        },
        {
          "name": "stderr",
          "output_type": "stream",
          "text": [
            "\n"
          ]
        },
        {
          "name": "stdout",
          "output_type": "stream",
          "text": [
            "*** Validation:   Train Loss: 0.1637 --- Val Loss: 0.1463\n",
            "Model saved with BEST val loss 0.1463\n"
          ]
        },
        {
          "name": "stderr",
          "output_type": "stream",
          "text": [
            "Epoch [6/100]: 100%|██████████| 516/516 [02:12<00:00,  3.89it/s, loss=0.164]"
          ]
        },
        {
          "name": "stdout",
          "output_type": "stream",
          "text": [
            "Epoch 6/100 --- Train Loss: 0.1598\n"
          ]
        },
        {
          "name": "stderr",
          "output_type": "stream",
          "text": [
            "\n"
          ]
        },
        {
          "name": "stdout",
          "output_type": "stream",
          "text": [
            "*** Validation:   Train Loss: 0.1598 --- Val Loss: 0.1471\n"
          ]
        },
        {
          "name": "stderr",
          "output_type": "stream",
          "text": [
            "Epoch [7/100]: 100%|██████████| 516/516 [02:12<00:00,  3.89it/s, loss=0.156]"
          ]
        },
        {
          "name": "stdout",
          "output_type": "stream",
          "text": [
            "Epoch 7/100 --- Train Loss: 0.1558\n"
          ]
        },
        {
          "name": "stderr",
          "output_type": "stream",
          "text": [
            "\n"
          ]
        },
        {
          "name": "stdout",
          "output_type": "stream",
          "text": [
            "*** Validation:   Train Loss: 0.1558 --- Val Loss: 0.1390\n",
            "Model saved with BEST val loss 0.1390\n"
          ]
        },
        {
          "name": "stderr",
          "output_type": "stream",
          "text": [
            "Epoch [8/100]: 100%|██████████| 516/516 [02:12<00:00,  3.90it/s, loss=0.149]"
          ]
        },
        {
          "name": "stdout",
          "output_type": "stream",
          "text": [
            "Epoch 8/100 --- Train Loss: 0.1541\n"
          ]
        },
        {
          "name": "stderr",
          "output_type": "stream",
          "text": [
            "\n"
          ]
        },
        {
          "name": "stdout",
          "output_type": "stream",
          "text": [
            "*** Validation:   Train Loss: 0.1541 --- Val Loss: 0.1394\n"
          ]
        },
        {
          "name": "stderr",
          "output_type": "stream",
          "text": [
            "Epoch [9/100]: 100%|██████████| 516/516 [02:12<00:00,  3.89it/s, loss=0.167]"
          ]
        },
        {
          "name": "stdout",
          "output_type": "stream",
          "text": [
            "Epoch 9/100 --- Train Loss: 0.1513\n"
          ]
        },
        {
          "name": "stderr",
          "output_type": "stream",
          "text": [
            "\n"
          ]
        },
        {
          "name": "stdout",
          "output_type": "stream",
          "text": [
            "*** Validation:   Train Loss: 0.1513 --- Val Loss: 0.1350\n",
            "Model saved with BEST val loss 0.1350\n"
          ]
        },
        {
          "name": "stderr",
          "output_type": "stream",
          "text": [
            "Epoch [10/100]: 100%|██████████| 516/516 [02:12<00:00,  3.89it/s, loss=0.134]"
          ]
        },
        {
          "name": "stdout",
          "output_type": "stream",
          "text": [
            "Epoch 10/100 --- Train Loss: 0.1508\n"
          ]
        },
        {
          "name": "stderr",
          "output_type": "stream",
          "text": [
            "\n"
          ]
        },
        {
          "name": "stdout",
          "output_type": "stream",
          "text": [
            "*** Validation:   Train Loss: 0.1508 --- Val Loss: 0.1345\n",
            "Model saved with BEST val loss 0.1345\n"
          ]
        },
        {
          "name": "stderr",
          "output_type": "stream",
          "text": [
            "Epoch [11/100]: 100%|██████████| 516/516 [02:12<00:00,  3.90it/s, loss=0.141]"
          ]
        },
        {
          "name": "stdout",
          "output_type": "stream",
          "text": [
            "Epoch 11/100 --- Train Loss: 0.1489\n"
          ]
        },
        {
          "name": "stderr",
          "output_type": "stream",
          "text": [
            "\n"
          ]
        },
        {
          "name": "stdout",
          "output_type": "stream",
          "text": [
            "*** Validation:   Train Loss: 0.1489 --- Val Loss: 0.1334\n",
            "Model saved with BEST val loss 0.1334\n"
          ]
        },
        {
          "name": "stderr",
          "output_type": "stream",
          "text": [
            "Epoch [12/100]: 100%|██████████| 516/516 [02:12<00:00,  3.89it/s, loss=0.157]"
          ]
        },
        {
          "name": "stdout",
          "output_type": "stream",
          "text": [
            "Epoch 12/100 --- Train Loss: 0.1467\n"
          ]
        },
        {
          "name": "stderr",
          "output_type": "stream",
          "text": [
            "\n"
          ]
        },
        {
          "name": "stdout",
          "output_type": "stream",
          "text": [
            "*** Validation:   Train Loss: 0.1467 --- Val Loss: 0.1335\n"
          ]
        },
        {
          "name": "stderr",
          "output_type": "stream",
          "text": [
            "Epoch [13/100]: 100%|██████████| 516/516 [02:13<00:00,  3.85it/s, loss=0.146]"
          ]
        },
        {
          "name": "stdout",
          "output_type": "stream",
          "text": [
            "Epoch 13/100 --- Train Loss: 0.1460\n"
          ]
        },
        {
          "name": "stderr",
          "output_type": "stream",
          "text": [
            "\n"
          ]
        },
        {
          "name": "stdout",
          "output_type": "stream",
          "text": [
            "*** Validation:   Train Loss: 0.1460 --- Val Loss: 0.1315\n",
            "Model saved with BEST val loss 0.1315\n"
          ]
        },
        {
          "name": "stderr",
          "output_type": "stream",
          "text": [
            "Epoch [14/100]: 100%|██████████| 516/516 [02:12<00:00,  3.89it/s, loss=0.131]"
          ]
        },
        {
          "name": "stdout",
          "output_type": "stream",
          "text": [
            "Epoch 14/100 --- Train Loss: 0.1448\n"
          ]
        },
        {
          "name": "stderr",
          "output_type": "stream",
          "text": [
            "\n"
          ]
        },
        {
          "name": "stdout",
          "output_type": "stream",
          "text": [
            "*** Validation:   Train Loss: 0.1448 --- Val Loss: 0.1316\n"
          ]
        },
        {
          "name": "stderr",
          "output_type": "stream",
          "text": [
            "Epoch [15/100]: 100%|██████████| 516/516 [02:12<00:00,  3.89it/s, loss=0.209]"
          ]
        },
        {
          "name": "stdout",
          "output_type": "stream",
          "text": [
            "Epoch 15/100 --- Train Loss: 0.1439\n"
          ]
        },
        {
          "name": "stderr",
          "output_type": "stream",
          "text": [
            "\n"
          ]
        },
        {
          "name": "stdout",
          "output_type": "stream",
          "text": [
            "*** Validation:   Train Loss: 0.1439 --- Val Loss: 0.1496\n"
          ]
        },
        {
          "name": "stderr",
          "output_type": "stream",
          "text": [
            "Epoch [16/100]: 100%|██████████| 516/516 [02:12<00:00,  3.90it/s, loss=0.129]"
          ]
        },
        {
          "name": "stdout",
          "output_type": "stream",
          "text": [
            "Epoch 16/100 --- Train Loss: 0.1432\n"
          ]
        },
        {
          "name": "stderr",
          "output_type": "stream",
          "text": [
            "\n"
          ]
        },
        {
          "name": "stdout",
          "output_type": "stream",
          "text": [
            "*** Validation:   Train Loss: 0.1432 --- Val Loss: 0.1328\n"
          ]
        },
        {
          "name": "stderr",
          "output_type": "stream",
          "text": [
            "Epoch [17/100]: 100%|██████████| 516/516 [02:12<00:00,  3.89it/s, loss=0.136]"
          ]
        },
        {
          "name": "stdout",
          "output_type": "stream",
          "text": [
            "Epoch 17/100 --- Train Loss: 0.1427\n"
          ]
        },
        {
          "name": "stderr",
          "output_type": "stream",
          "text": [
            "\n"
          ]
        },
        {
          "name": "stdout",
          "output_type": "stream",
          "text": [
            "*** Validation:   Train Loss: 0.1427 --- Val Loss: 0.1306\n",
            "Model saved with BEST val loss 0.1306\n"
          ]
        },
        {
          "name": "stderr",
          "output_type": "stream",
          "text": [
            "Epoch [18/100]: 100%|██████████| 516/516 [02:12<00:00,  3.89it/s, loss=0.141]"
          ]
        },
        {
          "name": "stdout",
          "output_type": "stream",
          "text": [
            "Epoch 18/100 --- Train Loss: 0.1409\n"
          ]
        },
        {
          "name": "stderr",
          "output_type": "stream",
          "text": [
            "\n"
          ]
        },
        {
          "name": "stdout",
          "output_type": "stream",
          "text": [
            "*** Validation:   Train Loss: 0.1409 --- Val Loss: 0.1287\n",
            "Model saved with BEST val loss 0.1287\n"
          ]
        },
        {
          "name": "stderr",
          "output_type": "stream",
          "text": [
            "Epoch [19/100]: 100%|██████████| 516/516 [02:12<00:00,  3.89it/s, loss=0.139]"
          ]
        },
        {
          "name": "stdout",
          "output_type": "stream",
          "text": [
            "Epoch 19/100 --- Train Loss: 0.1403\n"
          ]
        },
        {
          "name": "stderr",
          "output_type": "stream",
          "text": [
            "\n"
          ]
        },
        {
          "name": "stdout",
          "output_type": "stream",
          "text": [
            "*** Validation:   Train Loss: 0.1403 --- Val Loss: 0.1295\n"
          ]
        },
        {
          "name": "stderr",
          "output_type": "stream",
          "text": [
            "Epoch [20/100]: 100%|██████████| 516/516 [02:12<00:00,  3.89it/s, loss=0.125]"
          ]
        },
        {
          "name": "stdout",
          "output_type": "stream",
          "text": [
            "Epoch 20/100 --- Train Loss: 0.1404\n"
          ]
        },
        {
          "name": "stderr",
          "output_type": "stream",
          "text": [
            "\n"
          ]
        },
        {
          "name": "stdout",
          "output_type": "stream",
          "text": [
            "*** Validation:   Train Loss: 0.1404 --- Val Loss: 0.1290\n"
          ]
        },
        {
          "name": "stderr",
          "output_type": "stream",
          "text": [
            "Epoch [21/100]: 100%|██████████| 516/516 [02:12<00:00,  3.89it/s, loss=0.13] "
          ]
        },
        {
          "name": "stdout",
          "output_type": "stream",
          "text": [
            "Epoch 21/100 --- Train Loss: 0.1391\n"
          ]
        },
        {
          "name": "stderr",
          "output_type": "stream",
          "text": [
            "\n"
          ]
        },
        {
          "name": "stdout",
          "output_type": "stream",
          "text": [
            "*** Validation:   Train Loss: 0.1391 --- Val Loss: 0.1280\n",
            "Model saved with BEST val loss 0.1280\n"
          ]
        },
        {
          "name": "stderr",
          "output_type": "stream",
          "text": [
            "Epoch [22/100]: 100%|██████████| 516/516 [02:13<00:00,  3.87it/s, loss=0.156]"
          ]
        },
        {
          "name": "stdout",
          "output_type": "stream",
          "text": [
            "Epoch 22/100 --- Train Loss: 0.1388\n"
          ]
        },
        {
          "name": "stderr",
          "output_type": "stream",
          "text": [
            "\n"
          ]
        },
        {
          "name": "stdout",
          "output_type": "stream",
          "text": [
            "*** Validation:   Train Loss: 0.1388 --- Val Loss: 0.1288\n"
          ]
        },
        {
          "name": "stderr",
          "output_type": "stream",
          "text": [
            "Epoch [23/100]: 100%|██████████| 516/516 [02:12<00:00,  3.89it/s, loss=0.132]"
          ]
        },
        {
          "name": "stdout",
          "output_type": "stream",
          "text": [
            "Epoch 23/100 --- Train Loss: 0.1378\n"
          ]
        },
        {
          "name": "stderr",
          "output_type": "stream",
          "text": [
            "\n"
          ]
        },
        {
          "name": "stdout",
          "output_type": "stream",
          "text": [
            "*** Validation:   Train Loss: 0.1378 --- Val Loss: 0.1318\n"
          ]
        },
        {
          "name": "stderr",
          "output_type": "stream",
          "text": [
            "Epoch [24/100]: 100%|██████████| 516/516 [02:12<00:00,  3.89it/s, loss=0.146]"
          ]
        },
        {
          "name": "stdout",
          "output_type": "stream",
          "text": [
            "Epoch 24/100 --- Train Loss: 0.1373\n"
          ]
        },
        {
          "name": "stderr",
          "output_type": "stream",
          "text": [
            "\n"
          ]
        },
        {
          "name": "stdout",
          "output_type": "stream",
          "text": [
            "*** Validation:   Train Loss: 0.1373 --- Val Loss: 0.1272\n",
            "Model saved with BEST val loss 0.1272\n"
          ]
        },
        {
          "name": "stderr",
          "output_type": "stream",
          "text": [
            "Epoch [25/100]: 100%|██████████| 516/516 [02:12<00:00,  3.90it/s, loss=0.132]"
          ]
        },
        {
          "name": "stdout",
          "output_type": "stream",
          "text": [
            "Epoch 25/100 --- Train Loss: 0.1366\n"
          ]
        },
        {
          "name": "stderr",
          "output_type": "stream",
          "text": [
            "\n"
          ]
        },
        {
          "name": "stdout",
          "output_type": "stream",
          "text": [
            "*** Validation:   Train Loss: 0.1366 --- Val Loss: 0.1235\n",
            "Model saved with BEST val loss 0.1235\n"
          ]
        },
        {
          "name": "stderr",
          "output_type": "stream",
          "text": [
            "Epoch [26/100]: 100%|██████████| 516/516 [02:12<00:00,  3.89it/s, loss=0.129]"
          ]
        },
        {
          "name": "stdout",
          "output_type": "stream",
          "text": [
            "Epoch 26/100 --- Train Loss: 0.1360\n"
          ]
        },
        {
          "name": "stderr",
          "output_type": "stream",
          "text": [
            "\n"
          ]
        },
        {
          "name": "stdout",
          "output_type": "stream",
          "text": [
            "*** Validation:   Train Loss: 0.1360 --- Val Loss: 0.1265\n"
          ]
        },
        {
          "name": "stderr",
          "output_type": "stream",
          "text": [
            "Epoch [27/100]: 100%|██████████| 516/516 [02:12<00:00,  3.90it/s, loss=0.141]"
          ]
        },
        {
          "name": "stdout",
          "output_type": "stream",
          "text": [
            "Epoch 27/100 --- Train Loss: 0.1364\n"
          ]
        },
        {
          "name": "stderr",
          "output_type": "stream",
          "text": [
            "\n"
          ]
        },
        {
          "name": "stdout",
          "output_type": "stream",
          "text": [
            "*** Validation:   Train Loss: 0.1364 --- Val Loss: 0.1261\n"
          ]
        },
        {
          "name": "stderr",
          "output_type": "stream",
          "text": [
            "Epoch [28/100]: 100%|██████████| 516/516 [02:12<00:00,  3.90it/s, loss=0.127]"
          ]
        },
        {
          "name": "stdout",
          "output_type": "stream",
          "text": [
            "Epoch 28/100 --- Train Loss: 0.1356\n"
          ]
        },
        {
          "name": "stderr",
          "output_type": "stream",
          "text": [
            "\n"
          ]
        },
        {
          "name": "stdout",
          "output_type": "stream",
          "text": [
            "*** Validation:   Train Loss: 0.1356 --- Val Loss: 0.1265\n"
          ]
        },
        {
          "name": "stderr",
          "output_type": "stream",
          "text": [
            "Epoch [29/100]: 100%|██████████| 516/516 [02:14<00:00,  3.84it/s, loss=0.143]"
          ]
        },
        {
          "name": "stdout",
          "output_type": "stream",
          "text": [
            "Epoch 29/100 --- Train Loss: 0.1346\n"
          ]
        },
        {
          "name": "stderr",
          "output_type": "stream",
          "text": [
            "\n"
          ]
        },
        {
          "name": "stdout",
          "output_type": "stream",
          "text": [
            "*** Validation:   Train Loss: 0.1346 --- Val Loss: 0.1242\n"
          ]
        },
        {
          "name": "stderr",
          "output_type": "stream",
          "text": [
            "Epoch [30/100]: 100%|██████████| 516/516 [02:12<00:00,  3.89it/s, loss=0.15] "
          ]
        },
        {
          "name": "stdout",
          "output_type": "stream",
          "text": [
            "Epoch 30/100 --- Train Loss: 0.1339\n"
          ]
        },
        {
          "name": "stderr",
          "output_type": "stream",
          "text": [
            "\n"
          ]
        },
        {
          "name": "stdout",
          "output_type": "stream",
          "text": [
            "*** Validation:   Train Loss: 0.1339 --- Val Loss: 0.1243\n"
          ]
        },
        {
          "name": "stderr",
          "output_type": "stream",
          "text": [
            "Epoch [31/100]: 100%|██████████| 516/516 [02:12<00:00,  3.89it/s, loss=0.147]"
          ]
        },
        {
          "name": "stdout",
          "output_type": "stream",
          "text": [
            "Epoch 31/100 --- Train Loss: 0.1340\n"
          ]
        },
        {
          "name": "stderr",
          "output_type": "stream",
          "text": [
            "\n"
          ]
        },
        {
          "name": "stdout",
          "output_type": "stream",
          "text": [
            "*** Validation:   Train Loss: 0.1340 --- Val Loss: 0.1224\n",
            "Model saved with BEST val loss 0.1224\n"
          ]
        },
        {
          "name": "stderr",
          "output_type": "stream",
          "text": [
            "Epoch [32/100]: 100%|██████████| 516/516 [02:12<00:00,  3.90it/s, loss=0.123]"
          ]
        },
        {
          "name": "stdout",
          "output_type": "stream",
          "text": [
            "Epoch 32/100 --- Train Loss: 0.1336\n"
          ]
        },
        {
          "name": "stderr",
          "output_type": "stream",
          "text": [
            "\n"
          ]
        },
        {
          "name": "stdout",
          "output_type": "stream",
          "text": [
            "*** Validation:   Train Loss: 0.1336 --- Val Loss: 0.1239\n"
          ]
        },
        {
          "name": "stderr",
          "output_type": "stream",
          "text": [
            "Epoch [33/100]: 100%|██████████| 516/516 [02:12<00:00,  3.89it/s, loss=0.138]"
          ]
        },
        {
          "name": "stdout",
          "output_type": "stream",
          "text": [
            "Epoch 33/100 --- Train Loss: 0.1330\n"
          ]
        },
        {
          "name": "stderr",
          "output_type": "stream",
          "text": [
            "\n"
          ]
        },
        {
          "name": "stdout",
          "output_type": "stream",
          "text": [
            "*** Validation:   Train Loss: 0.1330 --- Val Loss: 0.1229\n"
          ]
        },
        {
          "name": "stderr",
          "output_type": "stream",
          "text": [
            "Epoch [34/100]: 100%|██████████| 516/516 [02:12<00:00,  3.89it/s, loss=0.122]"
          ]
        },
        {
          "name": "stdout",
          "output_type": "stream",
          "text": [
            "Epoch 34/100 --- Train Loss: 0.1329\n"
          ]
        },
        {
          "name": "stderr",
          "output_type": "stream",
          "text": [
            "\n"
          ]
        },
        {
          "name": "stdout",
          "output_type": "stream",
          "text": [
            "*** Validation:   Train Loss: 0.1329 --- Val Loss: 0.1240\n"
          ]
        },
        {
          "name": "stderr",
          "output_type": "stream",
          "text": [
            "Epoch [35/100]: 100%|██████████| 516/516 [02:12<00:00,  3.89it/s, loss=0.133]"
          ]
        },
        {
          "name": "stdout",
          "output_type": "stream",
          "text": [
            "Epoch 35/100 --- Train Loss: 0.1328\n"
          ]
        },
        {
          "name": "stderr",
          "output_type": "stream",
          "text": [
            "\n"
          ]
        },
        {
          "name": "stdout",
          "output_type": "stream",
          "text": [
            "*** Validation:   Train Loss: 0.1328 --- Val Loss: 0.1219\n",
            "Model saved with BEST val loss 0.1219\n"
          ]
        },
        {
          "name": "stderr",
          "output_type": "stream",
          "text": [
            "Epoch [36/100]: 100%|██████████| 516/516 [02:12<00:00,  3.90it/s, loss=0.134]"
          ]
        },
        {
          "name": "stdout",
          "output_type": "stream",
          "text": [
            "Epoch 36/100 --- Train Loss: 0.1318\n"
          ]
        },
        {
          "name": "stderr",
          "output_type": "stream",
          "text": [
            "\n"
          ]
        },
        {
          "name": "stdout",
          "output_type": "stream",
          "text": [
            "*** Validation:   Train Loss: 0.1318 --- Val Loss: 0.1218\n",
            "Model saved with BEST val loss 0.1218\n"
          ]
        },
        {
          "name": "stderr",
          "output_type": "stream",
          "text": [
            "Epoch [37/100]: 100%|██████████| 516/516 [02:11<00:00,  3.91it/s, loss=0.131]"
          ]
        },
        {
          "name": "stdout",
          "output_type": "stream",
          "text": [
            "Epoch 37/100 --- Train Loss: 0.1313\n"
          ]
        },
        {
          "name": "stderr",
          "output_type": "stream",
          "text": [
            "\n"
          ]
        },
        {
          "name": "stdout",
          "output_type": "stream",
          "text": [
            "*** Validation:   Train Loss: 0.1313 --- Val Loss: 0.1228\n"
          ]
        },
        {
          "name": "stderr",
          "output_type": "stream",
          "text": [
            "Epoch [38/100]: 100%|██████████| 516/516 [02:13<00:00,  3.87it/s, loss=0.139]"
          ]
        },
        {
          "name": "stdout",
          "output_type": "stream",
          "text": [
            "Epoch 38/100 --- Train Loss: 0.1313\n"
          ]
        },
        {
          "name": "stderr",
          "output_type": "stream",
          "text": [
            "\n"
          ]
        },
        {
          "name": "stdout",
          "output_type": "stream",
          "text": [
            "*** Validation:   Train Loss: 0.1313 --- Val Loss: 0.1243\n"
          ]
        },
        {
          "name": "stderr",
          "output_type": "stream",
          "text": [
            "Epoch [39/100]: 100%|██████████| 516/516 [02:12<00:00,  3.89it/s, loss=0.138]"
          ]
        },
        {
          "name": "stdout",
          "output_type": "stream",
          "text": [
            "Epoch 39/100 --- Train Loss: 0.1310\n"
          ]
        },
        {
          "name": "stderr",
          "output_type": "stream",
          "text": [
            "\n"
          ]
        },
        {
          "name": "stdout",
          "output_type": "stream",
          "text": [
            "*** Validation:   Train Loss: 0.1310 --- Val Loss: 0.1208\n",
            "Model saved with BEST val loss 0.1208\n"
          ]
        },
        {
          "name": "stderr",
          "output_type": "stream",
          "text": [
            "Epoch [40/100]: 100%|██████████| 516/516 [02:12<00:00,  3.90it/s, loss=0.116]"
          ]
        },
        {
          "name": "stdout",
          "output_type": "stream",
          "text": [
            "Epoch 40/100 --- Train Loss: 0.1308\n"
          ]
        },
        {
          "name": "stderr",
          "output_type": "stream",
          "text": [
            "\n"
          ]
        },
        {
          "name": "stdout",
          "output_type": "stream",
          "text": [
            "*** Validation:   Train Loss: 0.1308 --- Val Loss: 0.1227\n"
          ]
        },
        {
          "name": "stderr",
          "output_type": "stream",
          "text": [
            "Epoch [41/100]: 100%|██████████| 516/516 [02:12<00:00,  3.90it/s, loss=0.132]"
          ]
        },
        {
          "name": "stdout",
          "output_type": "stream",
          "text": [
            "Epoch 41/100 --- Train Loss: 0.1305\n"
          ]
        },
        {
          "name": "stderr",
          "output_type": "stream",
          "text": [
            "\n"
          ]
        },
        {
          "name": "stdout",
          "output_type": "stream",
          "text": [
            "*** Validation:   Train Loss: 0.1305 --- Val Loss: 0.1202\n",
            "Model saved with BEST val loss 0.1202\n"
          ]
        },
        {
          "name": "stderr",
          "output_type": "stream",
          "text": [
            "Epoch [42/100]: 100%|██████████| 516/516 [02:12<00:00,  3.89it/s, loss=0.133]"
          ]
        },
        {
          "name": "stdout",
          "output_type": "stream",
          "text": [
            "Epoch 42/100 --- Train Loss: 0.1299\n"
          ]
        },
        {
          "name": "stderr",
          "output_type": "stream",
          "text": [
            "\n"
          ]
        },
        {
          "name": "stdout",
          "output_type": "stream",
          "text": [
            "*** Validation:   Train Loss: 0.1299 --- Val Loss: 0.1248\n"
          ]
        },
        {
          "name": "stderr",
          "output_type": "stream",
          "text": [
            "Epoch [43/100]: 100%|██████████| 516/516 [02:12<00:00,  3.89it/s, loss=0.132]"
          ]
        },
        {
          "name": "stdout",
          "output_type": "stream",
          "text": [
            "Epoch 43/100 --- Train Loss: 0.1297\n"
          ]
        },
        {
          "name": "stderr",
          "output_type": "stream",
          "text": [
            "\n"
          ]
        },
        {
          "name": "stdout",
          "output_type": "stream",
          "text": [
            "*** Validation:   Train Loss: 0.1297 --- Val Loss: 0.1197\n",
            "Model saved with BEST val loss 0.1197\n"
          ]
        },
        {
          "name": "stderr",
          "output_type": "stream",
          "text": [
            "Epoch [44/100]: 100%|██████████| 516/516 [02:12<00:00,  3.89it/s, loss=0.123]"
          ]
        },
        {
          "name": "stdout",
          "output_type": "stream",
          "text": [
            "Epoch 44/100 --- Train Loss: 0.1293\n"
          ]
        },
        {
          "name": "stderr",
          "output_type": "stream",
          "text": [
            "\n"
          ]
        },
        {
          "name": "stdout",
          "output_type": "stream",
          "text": [
            "*** Validation:   Train Loss: 0.1293 --- Val Loss: 0.1197\n",
            "Model saved with BEST val loss 0.1197\n"
          ]
        },
        {
          "name": "stderr",
          "output_type": "stream",
          "text": [
            "Epoch [45/100]: 100%|██████████| 516/516 [02:12<00:00,  3.88it/s, loss=0.134]"
          ]
        },
        {
          "name": "stdout",
          "output_type": "stream",
          "text": [
            "Epoch 45/100 --- Train Loss: 0.1289\n"
          ]
        },
        {
          "name": "stderr",
          "output_type": "stream",
          "text": [
            "\n"
          ]
        },
        {
          "name": "stdout",
          "output_type": "stream",
          "text": [
            "*** Validation:   Train Loss: 0.1289 --- Val Loss: 0.1195\n",
            "Model saved with BEST val loss 0.1195\n"
          ]
        },
        {
          "name": "stderr",
          "output_type": "stream",
          "text": [
            "Epoch [46/100]: 100%|██████████| 516/516 [02:12<00:00,  3.88it/s, loss=0.122]"
          ]
        },
        {
          "name": "stdout",
          "output_type": "stream",
          "text": [
            "Epoch 46/100 --- Train Loss: 0.1284\n"
          ]
        },
        {
          "name": "stderr",
          "output_type": "stream",
          "text": [
            "\n"
          ]
        },
        {
          "name": "stdout",
          "output_type": "stream",
          "text": [
            "*** Validation:   Train Loss: 0.1284 --- Val Loss: 0.1195\n",
            "Model saved with BEST val loss 0.1195\n"
          ]
        },
        {
          "name": "stderr",
          "output_type": "stream",
          "text": [
            "Epoch [47/100]: 100%|██████████| 516/516 [02:12<00:00,  3.90it/s, loss=0.126]"
          ]
        },
        {
          "name": "stdout",
          "output_type": "stream",
          "text": [
            "Epoch 47/100 --- Train Loss: 0.1279\n"
          ]
        },
        {
          "name": "stderr",
          "output_type": "stream",
          "text": [
            "\n"
          ]
        },
        {
          "name": "stdout",
          "output_type": "stream",
          "text": [
            "*** Validation:   Train Loss: 0.1279 --- Val Loss: 0.1184\n",
            "Model saved with BEST val loss 0.1184\n"
          ]
        },
        {
          "name": "stderr",
          "output_type": "stream",
          "text": [
            "Epoch [48/100]: 100%|██████████| 516/516 [02:12<00:00,  3.90it/s, loss=0.115]"
          ]
        },
        {
          "name": "stdout",
          "output_type": "stream",
          "text": [
            "Epoch 48/100 --- Train Loss: 0.1279\n"
          ]
        },
        {
          "name": "stderr",
          "output_type": "stream",
          "text": [
            "\n"
          ]
        },
        {
          "name": "stdout",
          "output_type": "stream",
          "text": [
            "*** Validation:   Train Loss: 0.1279 --- Val Loss: 0.1191\n"
          ]
        },
        {
          "name": "stderr",
          "output_type": "stream",
          "text": [
            "Epoch [49/100]: 100%|██████████| 516/516 [02:12<00:00,  3.89it/s, loss=0.119]"
          ]
        },
        {
          "name": "stdout",
          "output_type": "stream",
          "text": [
            "Epoch 49/100 --- Train Loss: 0.1270\n"
          ]
        },
        {
          "name": "stderr",
          "output_type": "stream",
          "text": [
            "\n"
          ]
        },
        {
          "name": "stdout",
          "output_type": "stream",
          "text": [
            "*** Validation:   Train Loss: 0.1270 --- Val Loss: 0.1189\n"
          ]
        },
        {
          "name": "stderr",
          "output_type": "stream",
          "text": [
            "Epoch [50/100]: 100%|██████████| 516/516 [02:12<00:00,  3.89it/s, loss=0.12] "
          ]
        },
        {
          "name": "stdout",
          "output_type": "stream",
          "text": [
            "Epoch 50/100 --- Train Loss: 0.1273\n"
          ]
        },
        {
          "name": "stderr",
          "output_type": "stream",
          "text": [
            "\n"
          ]
        },
        {
          "name": "stdout",
          "output_type": "stream",
          "text": [
            "*** Validation:   Train Loss: 0.1273 --- Val Loss: 0.1178\n",
            "Model saved with BEST val loss 0.1178\n"
          ]
        },
        {
          "name": "stderr",
          "output_type": "stream",
          "text": [
            "Epoch [51/100]: 100%|██████████| 516/516 [02:12<00:00,  3.90it/s, loss=0.122]"
          ]
        },
        {
          "name": "stdout",
          "output_type": "stream",
          "text": [
            "Epoch 51/100 --- Train Loss: 0.1273\n"
          ]
        },
        {
          "name": "stderr",
          "output_type": "stream",
          "text": [
            "\n"
          ]
        },
        {
          "name": "stdout",
          "output_type": "stream",
          "text": [
            "*** Validation:   Train Loss: 0.1273 --- Val Loss: 0.1180\n"
          ]
        },
        {
          "name": "stderr",
          "output_type": "stream",
          "text": [
            "Epoch [52/100]: 100%|██████████| 516/516 [02:12<00:00,  3.89it/s, loss=0.126]"
          ]
        },
        {
          "name": "stdout",
          "output_type": "stream",
          "text": [
            "Epoch 52/100 --- Train Loss: 0.1272\n"
          ]
        },
        {
          "name": "stderr",
          "output_type": "stream",
          "text": [
            "\n"
          ]
        },
        {
          "name": "stdout",
          "output_type": "stream",
          "text": [
            "*** Validation:   Train Loss: 0.1272 --- Val Loss: 0.1192\n"
          ]
        },
        {
          "name": "stderr",
          "output_type": "stream",
          "text": [
            "Epoch [53/100]: 100%|██████████| 516/516 [02:12<00:00,  3.89it/s, loss=0.138]"
          ]
        },
        {
          "name": "stdout",
          "output_type": "stream",
          "text": [
            "Epoch 53/100 --- Train Loss: 0.1265\n"
          ]
        },
        {
          "name": "stderr",
          "output_type": "stream",
          "text": [
            "\n"
          ]
        },
        {
          "name": "stdout",
          "output_type": "stream",
          "text": [
            "*** Validation:   Train Loss: 0.1265 --- Val Loss: 0.1202\n"
          ]
        },
        {
          "name": "stderr",
          "output_type": "stream",
          "text": [
            "Epoch [54/100]: 100%|██████████| 516/516 [02:12<00:00,  3.90it/s, loss=0.121]"
          ]
        },
        {
          "name": "stdout",
          "output_type": "stream",
          "text": [
            "Epoch 54/100 --- Train Loss: 0.1262\n"
          ]
        },
        {
          "name": "stderr",
          "output_type": "stream",
          "text": [
            "\n"
          ]
        },
        {
          "name": "stdout",
          "output_type": "stream",
          "text": [
            "*** Validation:   Train Loss: 0.1262 --- Val Loss: 0.1180\n"
          ]
        },
        {
          "name": "stderr",
          "output_type": "stream",
          "text": [
            "Epoch [55/100]: 100%|██████████| 516/516 [02:13<00:00,  3.87it/s, loss=0.127]"
          ]
        },
        {
          "name": "stdout",
          "output_type": "stream",
          "text": [
            "Epoch 55/100 --- Train Loss: 0.1260\n"
          ]
        },
        {
          "name": "stderr",
          "output_type": "stream",
          "text": [
            "\n"
          ]
        },
        {
          "name": "stdout",
          "output_type": "stream",
          "text": [
            "*** Validation:   Train Loss: 0.1260 --- Val Loss: 0.1177\n",
            "Model saved with BEST val loss 0.1177\n"
          ]
        },
        {
          "name": "stderr",
          "output_type": "stream",
          "text": [
            "Epoch [56/100]: 100%|██████████| 516/516 [02:12<00:00,  3.89it/s, loss=0.121]"
          ]
        },
        {
          "name": "stdout",
          "output_type": "stream",
          "text": [
            "Epoch 56/100 --- Train Loss: 0.1257\n"
          ]
        },
        {
          "name": "stderr",
          "output_type": "stream",
          "text": [
            "\n"
          ]
        },
        {
          "name": "stdout",
          "output_type": "stream",
          "text": [
            "*** Validation:   Train Loss: 0.1257 --- Val Loss: 0.1173\n",
            "Model saved with BEST val loss 0.1173\n"
          ]
        },
        {
          "name": "stderr",
          "output_type": "stream",
          "text": [
            "Epoch [57/100]: 100%|██████████| 516/516 [02:12<00:00,  3.88it/s, loss=0.131]"
          ]
        },
        {
          "name": "stdout",
          "output_type": "stream",
          "text": [
            "Epoch 57/100 --- Train Loss: 0.1258\n"
          ]
        },
        {
          "name": "stderr",
          "output_type": "stream",
          "text": [
            "\n"
          ]
        },
        {
          "name": "stdout",
          "output_type": "stream",
          "text": [
            "*** Validation:   Train Loss: 0.1258 --- Val Loss: 0.1180\n"
          ]
        },
        {
          "name": "stderr",
          "output_type": "stream",
          "text": [
            "Epoch [58/100]: 100%|██████████| 516/516 [02:13<00:00,  3.88it/s, loss=0.12] "
          ]
        },
        {
          "name": "stdout",
          "output_type": "stream",
          "text": [
            "Epoch 58/100 --- Train Loss: 0.1253\n"
          ]
        },
        {
          "name": "stderr",
          "output_type": "stream",
          "text": [
            "\n"
          ]
        },
        {
          "name": "stdout",
          "output_type": "stream",
          "text": [
            "*** Validation:   Train Loss: 0.1253 --- Val Loss: 0.1171\n",
            "Model saved with BEST val loss 0.1171\n"
          ]
        },
        {
          "name": "stderr",
          "output_type": "stream",
          "text": [
            "Epoch [59/100]: 100%|██████████| 516/516 [02:12<00:00,  3.89it/s, loss=0.137]"
          ]
        },
        {
          "name": "stdout",
          "output_type": "stream",
          "text": [
            "Epoch 59/100 --- Train Loss: 0.1252\n"
          ]
        },
        {
          "name": "stderr",
          "output_type": "stream",
          "text": [
            "\n"
          ]
        },
        {
          "name": "stdout",
          "output_type": "stream",
          "text": [
            "*** Validation:   Train Loss: 0.1252 --- Val Loss: 0.1167\n",
            "Model saved with BEST val loss 0.1167\n"
          ]
        },
        {
          "name": "stderr",
          "output_type": "stream",
          "text": [
            "Epoch [60/100]: 100%|██████████| 516/516 [02:12<00:00,  3.88it/s, loss=0.124]"
          ]
        },
        {
          "name": "stdout",
          "output_type": "stream",
          "text": [
            "Epoch 60/100 --- Train Loss: 0.1249\n"
          ]
        },
        {
          "name": "stderr",
          "output_type": "stream",
          "text": [
            "\n"
          ]
        },
        {
          "name": "stdout",
          "output_type": "stream",
          "text": [
            "*** Validation:   Train Loss: 0.1249 --- Val Loss: 0.1183\n"
          ]
        },
        {
          "name": "stderr",
          "output_type": "stream",
          "text": [
            "Epoch [61/100]: 100%|██████████| 516/516 [02:12<00:00,  3.88it/s, loss=0.129]"
          ]
        },
        {
          "name": "stdout",
          "output_type": "stream",
          "text": [
            "Epoch 61/100 --- Train Loss: 0.1245\n"
          ]
        },
        {
          "name": "stderr",
          "output_type": "stream",
          "text": [
            "\n"
          ]
        },
        {
          "name": "stdout",
          "output_type": "stream",
          "text": [
            "*** Validation:   Train Loss: 0.1245 --- Val Loss: 0.1164\n",
            "Model saved with BEST val loss 0.1164\n"
          ]
        },
        {
          "name": "stderr",
          "output_type": "stream",
          "text": [
            "Epoch [62/100]: 100%|██████████| 516/516 [02:12<00:00,  3.88it/s, loss=0.128]"
          ]
        },
        {
          "name": "stdout",
          "output_type": "stream",
          "text": [
            "Epoch 62/100 --- Train Loss: 0.1245\n"
          ]
        },
        {
          "name": "stderr",
          "output_type": "stream",
          "text": [
            "\n"
          ]
        },
        {
          "name": "stdout",
          "output_type": "stream",
          "text": [
            "*** Validation:   Train Loss: 0.1245 --- Val Loss: 0.1162\n",
            "Model saved with BEST val loss 0.1162\n"
          ]
        },
        {
          "name": "stderr",
          "output_type": "stream",
          "text": [
            "Epoch [63/100]: 100%|██████████| 516/516 [02:12<00:00,  3.89it/s, loss=0.139]"
          ]
        },
        {
          "name": "stdout",
          "output_type": "stream",
          "text": [
            "Epoch 63/100 --- Train Loss: 0.1246\n"
          ]
        },
        {
          "name": "stderr",
          "output_type": "stream",
          "text": [
            "\n"
          ]
        },
        {
          "name": "stdout",
          "output_type": "stream",
          "text": [
            "*** Validation:   Train Loss: 0.1246 --- Val Loss: 0.1160\n",
            "Model saved with BEST val loss 0.1160\n"
          ]
        },
        {
          "name": "stderr",
          "output_type": "stream",
          "text": [
            "Epoch [64/100]: 100%|██████████| 516/516 [02:12<00:00,  3.89it/s, loss=0.131]"
          ]
        },
        {
          "name": "stdout",
          "output_type": "stream",
          "text": [
            "Epoch 64/100 --- Train Loss: 0.1242\n"
          ]
        },
        {
          "name": "stderr",
          "output_type": "stream",
          "text": [
            "\n"
          ]
        },
        {
          "name": "stdout",
          "output_type": "stream",
          "text": [
            "*** Validation:   Train Loss: 0.1242 --- Val Loss: 0.1215\n"
          ]
        },
        {
          "name": "stderr",
          "output_type": "stream",
          "text": [
            "Epoch [65/100]: 100%|██████████| 516/516 [02:12<00:00,  3.88it/s, loss=0.113]"
          ]
        },
        {
          "name": "stdout",
          "output_type": "stream",
          "text": [
            "Epoch 65/100 --- Train Loss: 0.1239\n"
          ]
        },
        {
          "name": "stderr",
          "output_type": "stream",
          "text": [
            "\n"
          ]
        },
        {
          "name": "stdout",
          "output_type": "stream",
          "text": [
            "*** Validation:   Train Loss: 0.1239 --- Val Loss: 0.1160\n",
            "Model saved with BEST val loss 0.1160\n"
          ]
        },
        {
          "name": "stderr",
          "output_type": "stream",
          "text": [
            "Epoch [66/100]: 100%|██████████| 516/516 [02:13<00:00,  3.87it/s, loss=0.121]"
          ]
        },
        {
          "name": "stdout",
          "output_type": "stream",
          "text": [
            "Epoch 66/100 --- Train Loss: 0.1237\n"
          ]
        },
        {
          "name": "stderr",
          "output_type": "stream",
          "text": [
            "\n"
          ]
        },
        {
          "name": "stdout",
          "output_type": "stream",
          "text": [
            "*** Validation:   Train Loss: 0.1237 --- Val Loss: 0.1158\n",
            "Model saved with BEST val loss 0.1158\n"
          ]
        },
        {
          "name": "stderr",
          "output_type": "stream",
          "text": [
            "Epoch [67/100]: 100%|██████████| 516/516 [02:12<00:00,  3.89it/s, loss=0.117]"
          ]
        },
        {
          "name": "stdout",
          "output_type": "stream",
          "text": [
            "Epoch 67/100 --- Train Loss: 0.1235\n"
          ]
        },
        {
          "name": "stderr",
          "output_type": "stream",
          "text": [
            "\n"
          ]
        },
        {
          "name": "stdout",
          "output_type": "stream",
          "text": [
            "*** Validation:   Train Loss: 0.1235 --- Val Loss: 0.1168\n"
          ]
        },
        {
          "name": "stderr",
          "output_type": "stream",
          "text": [
            "Epoch [68/100]: 100%|██████████| 516/516 [02:13<00:00,  3.87it/s, loss=0.128]"
          ]
        },
        {
          "name": "stdout",
          "output_type": "stream",
          "text": [
            "Epoch 68/100 --- Train Loss: 0.1234\n"
          ]
        },
        {
          "name": "stderr",
          "output_type": "stream",
          "text": [
            "\n"
          ]
        },
        {
          "name": "stdout",
          "output_type": "stream",
          "text": [
            "*** Validation:   Train Loss: 0.1234 --- Val Loss: 0.1157\n",
            "Model saved with BEST val loss 0.1157\n"
          ]
        },
        {
          "name": "stderr",
          "output_type": "stream",
          "text": [
            "Epoch [69/100]: 100%|██████████| 516/516 [02:13<00:00,  3.88it/s, loss=0.124]"
          ]
        },
        {
          "name": "stdout",
          "output_type": "stream",
          "text": [
            "Epoch 69/100 --- Train Loss: 0.1232\n"
          ]
        },
        {
          "name": "stderr",
          "output_type": "stream",
          "text": [
            "\n"
          ]
        },
        {
          "name": "stdout",
          "output_type": "stream",
          "text": [
            "*** Validation:   Train Loss: 0.1232 --- Val Loss: 0.1161\n"
          ]
        },
        {
          "name": "stderr",
          "output_type": "stream",
          "text": [
            "Epoch [70/100]: 100%|██████████| 516/516 [02:13<00:00,  3.88it/s, loss=0.116]"
          ]
        },
        {
          "name": "stdout",
          "output_type": "stream",
          "text": [
            "Epoch 70/100 --- Train Loss: 0.1231\n"
          ]
        },
        {
          "name": "stderr",
          "output_type": "stream",
          "text": [
            "\n"
          ]
        },
        {
          "name": "stdout",
          "output_type": "stream",
          "text": [
            "*** Validation:   Train Loss: 0.1231 --- Val Loss: 0.1155\n",
            "Model saved with BEST val loss 0.1155\n"
          ]
        },
        {
          "name": "stderr",
          "output_type": "stream",
          "text": [
            "Epoch [71/100]: 100%|██████████| 516/516 [02:12<00:00,  3.89it/s, loss=0.131]"
          ]
        },
        {
          "name": "stdout",
          "output_type": "stream",
          "text": [
            "Epoch 71/100 --- Train Loss: 0.1231\n"
          ]
        },
        {
          "name": "stderr",
          "output_type": "stream",
          "text": [
            "\n"
          ]
        },
        {
          "name": "stdout",
          "output_type": "stream",
          "text": [
            "*** Validation:   Train Loss: 0.1231 --- Val Loss: 0.1153\n",
            "Model saved with BEST val loss 0.1153\n"
          ]
        },
        {
          "name": "stderr",
          "output_type": "stream",
          "text": [
            "Epoch [72/100]: 100%|██████████| 516/516 [02:13<00:00,  3.87it/s, loss=0.133]"
          ]
        },
        {
          "name": "stdout",
          "output_type": "stream",
          "text": [
            "Epoch 72/100 --- Train Loss: 0.1228\n"
          ]
        },
        {
          "name": "stderr",
          "output_type": "stream",
          "text": [
            "\n"
          ]
        },
        {
          "name": "stdout",
          "output_type": "stream",
          "text": [
            "*** Validation:   Train Loss: 0.1228 --- Val Loss: 0.1151\n",
            "Model saved with BEST val loss 0.1151\n"
          ]
        },
        {
          "name": "stderr",
          "output_type": "stream",
          "text": [
            "Epoch [73/100]: 100%|██████████| 516/516 [02:13<00:00,  3.88it/s, loss=0.128]"
          ]
        },
        {
          "name": "stdout",
          "output_type": "stream",
          "text": [
            "Epoch 73/100 --- Train Loss: 0.1227\n"
          ]
        },
        {
          "name": "stderr",
          "output_type": "stream",
          "text": [
            "\n"
          ]
        },
        {
          "name": "stdout",
          "output_type": "stream",
          "text": [
            "*** Validation:   Train Loss: 0.1227 --- Val Loss: 0.1156\n"
          ]
        },
        {
          "name": "stderr",
          "output_type": "stream",
          "text": [
            "Epoch [74/100]: 100%|██████████| 516/516 [02:12<00:00,  3.88it/s, loss=0.134] "
          ]
        },
        {
          "name": "stdout",
          "output_type": "stream",
          "text": [
            "Epoch 74/100 --- Train Loss: 0.1225\n"
          ]
        },
        {
          "name": "stderr",
          "output_type": "stream",
          "text": [
            "\n"
          ]
        },
        {
          "name": "stdout",
          "output_type": "stream",
          "text": [
            "*** Validation:   Train Loss: 0.1225 --- Val Loss: 0.1150\n",
            "Model saved with BEST val loss 0.1150\n"
          ]
        },
        {
          "name": "stderr",
          "output_type": "stream",
          "text": [
            "Epoch [75/100]: 100%|██████████| 516/516 [02:13<00:00,  3.88it/s, loss=0.121] "
          ]
        },
        {
          "name": "stdout",
          "output_type": "stream",
          "text": [
            "Epoch 75/100 --- Train Loss: 0.1225\n"
          ]
        },
        {
          "name": "stderr",
          "output_type": "stream",
          "text": [
            "\n"
          ]
        },
        {
          "name": "stdout",
          "output_type": "stream",
          "text": [
            "*** Validation:   Train Loss: 0.1225 --- Val Loss: 0.1151\n"
          ]
        },
        {
          "name": "stderr",
          "output_type": "stream",
          "text": [
            "Epoch [76/100]: 100%|██████████| 516/516 [02:12<00:00,  3.88it/s, loss=0.134]"
          ]
        },
        {
          "name": "stdout",
          "output_type": "stream",
          "text": [
            "Epoch 76/100 --- Train Loss: 0.1223\n"
          ]
        },
        {
          "name": "stderr",
          "output_type": "stream",
          "text": [
            "\n"
          ]
        },
        {
          "name": "stdout",
          "output_type": "stream",
          "text": [
            "*** Validation:   Train Loss: 0.1223 --- Val Loss: 0.1149\n",
            "Model saved with BEST val loss 0.1149\n"
          ]
        },
        {
          "name": "stderr",
          "output_type": "stream",
          "text": [
            "Epoch [77/100]: 100%|██████████| 516/516 [02:12<00:00,  3.89it/s, loss=0.113]"
          ]
        },
        {
          "name": "stdout",
          "output_type": "stream",
          "text": [
            "Epoch 77/100 --- Train Loss: 0.1221\n"
          ]
        },
        {
          "name": "stderr",
          "output_type": "stream",
          "text": [
            "\n"
          ]
        },
        {
          "name": "stdout",
          "output_type": "stream",
          "text": [
            "*** Validation:   Train Loss: 0.1221 --- Val Loss: 0.1149\n"
          ]
        },
        {
          "name": "stderr",
          "output_type": "stream",
          "text": [
            "Epoch [78/100]: 100%|██████████| 516/516 [02:12<00:00,  3.88it/s, loss=0.142]"
          ]
        },
        {
          "name": "stdout",
          "output_type": "stream",
          "text": [
            "Epoch 78/100 --- Train Loss: 0.1221\n"
          ]
        },
        {
          "name": "stderr",
          "output_type": "stream",
          "text": [
            "\n"
          ]
        },
        {
          "name": "stdout",
          "output_type": "stream",
          "text": [
            "*** Validation:   Train Loss: 0.1221 --- Val Loss: 0.1149\n"
          ]
        },
        {
          "name": "stderr",
          "output_type": "stream",
          "text": [
            "Epoch [79/100]: 100%|██████████| 516/516 [02:12<00:00,  3.89it/s, loss=0.111]"
          ]
        },
        {
          "name": "stdout",
          "output_type": "stream",
          "text": [
            "Epoch 79/100 --- Train Loss: 0.1220\n"
          ]
        },
        {
          "name": "stderr",
          "output_type": "stream",
          "text": [
            "\n"
          ]
        },
        {
          "name": "stdout",
          "output_type": "stream",
          "text": [
            "*** Validation:   Train Loss: 0.1220 --- Val Loss: 0.1153\n"
          ]
        },
        {
          "name": "stderr",
          "output_type": "stream",
          "text": [
            "Epoch [80/100]: 100%|██████████| 516/516 [02:12<00:00,  3.90it/s, loss=0.131]"
          ]
        },
        {
          "name": "stdout",
          "output_type": "stream",
          "text": [
            "Epoch 80/100 --- Train Loss: 0.1219\n"
          ]
        },
        {
          "name": "stderr",
          "output_type": "stream",
          "text": [
            "\n"
          ]
        },
        {
          "name": "stdout",
          "output_type": "stream",
          "text": [
            "*** Validation:   Train Loss: 0.1219 --- Val Loss: 0.1152\n"
          ]
        },
        {
          "name": "stderr",
          "output_type": "stream",
          "text": [
            "Epoch [81/100]: 100%|██████████| 516/516 [02:12<00:00,  3.89it/s, loss=0.134]"
          ]
        },
        {
          "name": "stdout",
          "output_type": "stream",
          "text": [
            "Epoch 81/100 --- Train Loss: 0.1218\n"
          ]
        },
        {
          "name": "stderr",
          "output_type": "stream",
          "text": [
            "\n"
          ]
        },
        {
          "name": "stdout",
          "output_type": "stream",
          "text": [
            "*** Validation:   Train Loss: 0.1218 --- Val Loss: 0.1147\n",
            "Model saved with BEST val loss 0.1147\n"
          ]
        },
        {
          "name": "stderr",
          "output_type": "stream",
          "text": [
            "Epoch [82/100]: 100%|██████████| 516/516 [02:12<00:00,  3.89it/s, loss=0.129]"
          ]
        },
        {
          "name": "stdout",
          "output_type": "stream",
          "text": [
            "Epoch 82/100 --- Train Loss: 0.1217\n"
          ]
        },
        {
          "name": "stderr",
          "output_type": "stream",
          "text": [
            "\n"
          ]
        },
        {
          "name": "stdout",
          "output_type": "stream",
          "text": [
            "*** Validation:   Train Loss: 0.1217 --- Val Loss: 0.1147\n"
          ]
        },
        {
          "name": "stderr",
          "output_type": "stream",
          "text": [
            "Epoch [83/100]: 100%|██████████| 516/516 [02:12<00:00,  3.89it/s, loss=0.12] "
          ]
        },
        {
          "name": "stdout",
          "output_type": "stream",
          "text": [
            "Epoch 83/100 --- Train Loss: 0.1216\n"
          ]
        },
        {
          "name": "stderr",
          "output_type": "stream",
          "text": [
            "\n"
          ]
        },
        {
          "name": "stdout",
          "output_type": "stream",
          "text": [
            "*** Validation:   Train Loss: 0.1216 --- Val Loss: 0.1146\n",
            "Model saved with BEST val loss 0.1146\n"
          ]
        },
        {
          "name": "stderr",
          "output_type": "stream",
          "text": [
            "Epoch [84/100]: 100%|██████████| 516/516 [02:13<00:00,  3.87it/s, loss=0.119]\n"
          ]
        },
        {
          "name": "stdout",
          "output_type": "stream",
          "text": [
            "Epoch 84/100 --- Train Loss: 0.1215\n",
            "*** Validation:   Train Loss: 0.1215 --- Val Loss: 0.1147\n"
          ]
        },
        {
          "name": "stderr",
          "output_type": "stream",
          "text": [
            "Epoch [85/100]: 100%|██████████| 516/516 [02:12<00:00,  3.88it/s, loss=0.125]"
          ]
        },
        {
          "name": "stdout",
          "output_type": "stream",
          "text": [
            "Epoch 85/100 --- Train Loss: 0.1215\n"
          ]
        },
        {
          "name": "stderr",
          "output_type": "stream",
          "text": [
            "\n"
          ]
        },
        {
          "name": "stdout",
          "output_type": "stream",
          "text": [
            "*** Validation:   Train Loss: 0.1215 --- Val Loss: 0.1151\n"
          ]
        },
        {
          "name": "stderr",
          "output_type": "stream",
          "text": [
            "Epoch [86/100]: 100%|██████████| 516/516 [02:13<00:00,  3.88it/s, loss=0.117]\n"
          ]
        },
        {
          "name": "stdout",
          "output_type": "stream",
          "text": [
            "Epoch 86/100 --- Train Loss: 0.1214\n",
            "*** Validation:   Train Loss: 0.1214 --- Val Loss: 0.1146\n",
            "Model saved with BEST val loss 0.1146\n"
          ]
        },
        {
          "name": "stderr",
          "output_type": "stream",
          "text": [
            "Epoch [87/100]: 100%|██████████| 516/516 [02:12<00:00,  3.89it/s, loss=0.116]"
          ]
        },
        {
          "name": "stdout",
          "output_type": "stream",
          "text": [
            "Epoch 87/100 --- Train Loss: 0.1214\n"
          ]
        },
        {
          "name": "stderr",
          "output_type": "stream",
          "text": [
            "\n"
          ]
        },
        {
          "name": "stdout",
          "output_type": "stream",
          "text": [
            "*** Validation:   Train Loss: 0.1214 --- Val Loss: 0.1145\n",
            "Model saved with BEST val loss 0.1145\n"
          ]
        },
        {
          "name": "stderr",
          "output_type": "stream",
          "text": [
            "Epoch [88/100]: 100%|██████████| 516/516 [02:12<00:00,  3.89it/s, loss=0.126]"
          ]
        },
        {
          "name": "stdout",
          "output_type": "stream",
          "text": [
            "Epoch 88/100 --- Train Loss: 0.1214\n"
          ]
        },
        {
          "name": "stderr",
          "output_type": "stream",
          "text": [
            "\n"
          ]
        },
        {
          "name": "stdout",
          "output_type": "stream",
          "text": [
            "*** Validation:   Train Loss: 0.1214 --- Val Loss: 0.1146\n"
          ]
        },
        {
          "name": "stderr",
          "output_type": "stream",
          "text": [
            "Epoch [89/100]: 100%|██████████| 516/516 [02:12<00:00,  3.88it/s, loss=0.117]"
          ]
        },
        {
          "name": "stdout",
          "output_type": "stream",
          "text": [
            "Epoch 89/100 --- Train Loss: 0.1213\n"
          ]
        },
        {
          "name": "stderr",
          "output_type": "stream",
          "text": [
            "\n"
          ]
        },
        {
          "name": "stdout",
          "output_type": "stream",
          "text": [
            "*** Validation:   Train Loss: 0.1213 --- Val Loss: 0.1145\n",
            "Model saved with BEST val loss 0.1145\n"
          ]
        },
        {
          "name": "stderr",
          "output_type": "stream",
          "text": [
            "Epoch [90/100]: 100%|██████████| 516/516 [02:12<00:00,  3.89it/s, loss=0.107] "
          ]
        },
        {
          "name": "stdout",
          "output_type": "stream",
          "text": [
            "Epoch 90/100 --- Train Loss: 0.1212\n"
          ]
        },
        {
          "name": "stderr",
          "output_type": "stream",
          "text": [
            "\n"
          ]
        },
        {
          "name": "stdout",
          "output_type": "stream",
          "text": [
            "*** Validation:   Train Loss: 0.1212 --- Val Loss: 0.1144\n",
            "Model saved with BEST val loss 0.1144\n"
          ]
        },
        {
          "name": "stderr",
          "output_type": "stream",
          "text": [
            "Epoch [91/100]: 100%|██████████| 516/516 [02:12<00:00,  3.89it/s, loss=0.112]"
          ]
        },
        {
          "name": "stdout",
          "output_type": "stream",
          "text": [
            "Epoch 91/100 --- Train Loss: 0.1212\n"
          ]
        },
        {
          "name": "stderr",
          "output_type": "stream",
          "text": [
            "\n"
          ]
        },
        {
          "name": "stdout",
          "output_type": "stream",
          "text": [
            "*** Validation:   Train Loss: 0.1212 --- Val Loss: 0.1144\n",
            "Model saved with BEST val loss 0.1144\n"
          ]
        },
        {
          "name": "stderr",
          "output_type": "stream",
          "text": [
            "Epoch [92/100]: 100%|██████████| 516/516 [02:12<00:00,  3.89it/s, loss=0.123]"
          ]
        },
        {
          "name": "stdout",
          "output_type": "stream",
          "text": [
            "Epoch 92/100 --- Train Loss: 0.1212\n"
          ]
        },
        {
          "name": "stderr",
          "output_type": "stream",
          "text": [
            "\n"
          ]
        },
        {
          "name": "stdout",
          "output_type": "stream",
          "text": [
            "*** Validation:   Train Loss: 0.1212 --- Val Loss: 0.1144\n"
          ]
        },
        {
          "name": "stderr",
          "output_type": "stream",
          "text": [
            "Epoch [93/100]: 100%|██████████| 516/516 [02:12<00:00,  3.89it/s, loss=0.127]"
          ]
        },
        {
          "name": "stdout",
          "output_type": "stream",
          "text": [
            "Epoch 93/100 --- Train Loss: 0.1212\n"
          ]
        },
        {
          "name": "stderr",
          "output_type": "stream",
          "text": [
            "\n"
          ]
        },
        {
          "name": "stdout",
          "output_type": "stream",
          "text": [
            "*** Validation:   Train Loss: 0.1212 --- Val Loss: 0.1144\n",
            "Model saved with BEST val loss 0.1144\n"
          ]
        },
        {
          "name": "stderr",
          "output_type": "stream",
          "text": [
            "Epoch [94/100]: 100%|██████████| 516/516 [02:12<00:00,  3.89it/s, loss=0.119]"
          ]
        },
        {
          "name": "stdout",
          "output_type": "stream",
          "text": [
            "Epoch 94/100 --- Train Loss: 0.1211\n"
          ]
        },
        {
          "name": "stderr",
          "output_type": "stream",
          "text": [
            "\n"
          ]
        },
        {
          "name": "stdout",
          "output_type": "stream",
          "text": [
            "*** Validation:   Train Loss: 0.1211 --- Val Loss: 0.1144\n"
          ]
        },
        {
          "name": "stderr",
          "output_type": "stream",
          "text": [
            "Epoch [95/100]: 100%|██████████| 516/516 [02:12<00:00,  3.89it/s, loss=0.126]"
          ]
        },
        {
          "name": "stdout",
          "output_type": "stream",
          "text": [
            "Epoch 95/100 --- Train Loss: 0.1211\n"
          ]
        },
        {
          "name": "stderr",
          "output_type": "stream",
          "text": [
            "\n"
          ]
        },
        {
          "name": "stdout",
          "output_type": "stream",
          "text": [
            "*** Validation:   Train Loss: 0.1211 --- Val Loss: 0.1144\n"
          ]
        },
        {
          "name": "stderr",
          "output_type": "stream",
          "text": [
            "Epoch [96/100]: 100%|██████████| 516/516 [02:13<00:00,  3.88it/s, loss=0.132]"
          ]
        },
        {
          "name": "stdout",
          "output_type": "stream",
          "text": [
            "Epoch 96/100 --- Train Loss: 0.1210\n"
          ]
        },
        {
          "name": "stderr",
          "output_type": "stream",
          "text": [
            "\n"
          ]
        },
        {
          "name": "stdout",
          "output_type": "stream",
          "text": [
            "*** Validation:   Train Loss: 0.1210 --- Val Loss: 0.1145\n"
          ]
        },
        {
          "name": "stderr",
          "output_type": "stream",
          "text": [
            "Epoch [97/100]: 100%|██████████| 516/516 [02:12<00:00,  3.88it/s, loss=0.142]"
          ]
        },
        {
          "name": "stdout",
          "output_type": "stream",
          "text": [
            "Epoch 97/100 --- Train Loss: 0.1211\n"
          ]
        },
        {
          "name": "stderr",
          "output_type": "stream",
          "text": [
            "\n"
          ]
        },
        {
          "name": "stdout",
          "output_type": "stream",
          "text": [
            "*** Validation:   Train Loss: 0.1211 --- Val Loss: 0.1144\n"
          ]
        },
        {
          "name": "stderr",
          "output_type": "stream",
          "text": [
            "Epoch [98/100]: 100%|██████████| 516/516 [02:13<00:00,  3.87it/s, loss=0.126]"
          ]
        },
        {
          "name": "stdout",
          "output_type": "stream",
          "text": [
            "Epoch 98/100 --- Train Loss: 0.1209\n"
          ]
        },
        {
          "name": "stderr",
          "output_type": "stream",
          "text": [
            "\n"
          ]
        },
        {
          "name": "stdout",
          "output_type": "stream",
          "text": [
            "*** Validation:   Train Loss: 0.1209 --- Val Loss: 0.1144\n"
          ]
        },
        {
          "name": "stderr",
          "output_type": "stream",
          "text": [
            "Epoch [99/100]: 100%|██████████| 516/516 [02:12<00:00,  3.88it/s, loss=0.112]"
          ]
        },
        {
          "name": "stdout",
          "output_type": "stream",
          "text": [
            "Epoch 99/100 --- Train Loss: 0.1210\n"
          ]
        },
        {
          "name": "stderr",
          "output_type": "stream",
          "text": [
            "\n"
          ]
        },
        {
          "name": "stdout",
          "output_type": "stream",
          "text": [
            "*** Validation:   Train Loss: 0.1210 --- Val Loss: 0.1144\n"
          ]
        },
        {
          "name": "stderr",
          "output_type": "stream",
          "text": [
            "Epoch [100/100]: 100%|██████████| 516/516 [02:12<00:00,  3.88it/s, loss=0.146]"
          ]
        },
        {
          "name": "stdout",
          "output_type": "stream",
          "text": [
            "Epoch 100/100 --- Train Loss: 0.1210\n"
          ]
        },
        {
          "name": "stderr",
          "output_type": "stream",
          "text": [
            "\n"
          ]
        },
        {
          "name": "stdout",
          "output_type": "stream",
          "text": [
            "*** Validation:   Train Loss: 0.1210 --- Val Loss: 0.1144\n"
          ]
        }
      ],
      "source": [
        "num_epochs = 100\n",
        "scheduler = lr_scheduler.CosineAnnealingLR(optimizer, num_epochs, eta_min = 0.000001)   # or 0.00001\n",
        "\n",
        "best_val_loss = float(\"inf\")\n",
        "train_losses, val_losses, train_losses_bw, val_losses_bw = [], [], [], []\n",
        "\n",
        "########################################################### TRAINING\n",
        "for epoch in range(num_epochs):\n",
        "    model.train()\n",
        "    train_loss = 0.0\n",
        "    loop = tqdm(train_loader, total=len(train_loader), desc=f\"Epoch [{epoch+1}/{num_epochs}]\")\n",
        "    for images, masks in loop:\n",
        "        images = images.to(device)\n",
        "        masks = masks.to(device)\n",
        "        optimizer.zero_grad()\n",
        "        outputs = model(images)\n",
        "        loss = criterion(outputs, masks)\n",
        "        loss.backward()\n",
        "        optimizer.step()\n",
        "        train_loss += loss.item()\n",
        "        train_losses_bw.append(loss.item())\n",
        "        loop.set_postfix(loss=loss.item())  # for tqdm\n",
        "        \n",
        "    scheduler.step()\n",
        "    avg_train_loss = train_loss / len(train_loader)\n",
        "    train_losses.append(avg_train_loss)\n",
        "    print(f\"Epoch {epoch+1}/{num_epochs} --- Train Loss: {avg_train_loss:.4f}\")\n",
        "\n",
        "    ########################################################### VALIDATION\n",
        "    model.eval()\n",
        "    val_loss = 0.0\n",
        "    with torch.no_grad():\n",
        "        for images, masks in val_loader:\n",
        "            images = images.to(device)\n",
        "            masks = masks.to(device)\n",
        "            outputs = model(images)\n",
        "            loss = criterion(outputs, masks)\n",
        "            val_loss += loss.item()\n",
        "            val_losses_bw.append(loss.item())\n",
        "    avg_val_loss = val_loss / len(val_loader)\n",
        "    val_losses.append(avg_val_loss)\n",
        "    print(f\"*** Validation:   Train Loss: {avg_train_loss:.4f} --- Val Loss: {avg_val_loss:.4f}\")\n",
        "    if avg_val_loss < best_val_loss:\n",
        "        best_val_loss = avg_val_loss\n",
        "        torch.save(model, \"DEEP_DETECT_Best_Model.pth\")\n",
        "        print(f\"Model saved with BEST val loss {best_val_loss:.4f}\")"
      ]
    },
    {
      "cell_type": "markdown",
      "metadata": {},
      "source": [
        "#### **Loading Training History and Best Model**"
      ]
    },
    {
      "cell_type": "code",
      "execution_count": 9,
      "metadata": {
        "id": "MmCsXZJehCts"
      },
      "outputs": [],
      "source": [
        "model = torch.load(\"DEEP_DETECT_Best_Model.pth\", weights_only=False)   # Load DEEP_DETECT Best Model"
      ]
    },
    {
      "cell_type": "code",
      "execution_count": 10,
      "metadata": {},
      "outputs": [],
      "source": [
        "####### Save lists\n",
        "#np.savez(\"DEEP_DETECT_Training_Data.npz\", train_losses=train_losses, val_losses=val_losses, train_losses_bw=train_losses_bw, val_losses_bw=val_losses_bw)\n",
        "\n",
        "####### Load lists\n",
        "data = np.load(\"DEEP_DETECT_Training_Data.npz\", allow_pickle=True)\n",
        "train_losses = data[\"train_losses\"].tolist()\n",
        "val_losses = data[\"val_losses\"].tolist()"
      ]
    },
    {
      "cell_type": "code",
      "execution_count": 11,
      "metadata": {},
      "outputs": [
        {
          "data": {
            "image/png": "[encoded data removed]",
            "text/plain": [
              "<Figure size 1000x600 with 1 Axes>"
            ]
          },
          "metadata": {},
          "output_type": "display_data"
        }
      ],
      "source": [
        "plt.rcParams[\"font.family\"] = \"Times New Roman\"\n",
        "plt.figure(figsize=(10, 6))\n",
        "plt.plot(train_losses, label='Training Loss', linewidth=4, color='blue')\n",
        "plt.plot(val_losses, label='Validation Loss', linewidth=4, color='#FF9D00')\n",
        "\n",
        "plt.xlabel('Epochs', fontsize=24, fontname='Times New Roman')\n",
        "plt.ylabel('Loss', fontsize=24, fontname='Times New Roman')\n",
        "plt.title('Training vs Validation Loss', fontsize=24, fontname='Times New Roman')\n",
        "\n",
        "tick_positions = [0.10, 0.15, 0.20, 0.25, 0.30]\n",
        "tick_labels = ['0.10', '0.15', '0.20', '0.25', '0.30']\n",
        "plt.yticks(tick_positions, tick_labels, fontsize=18, fontname='Times New Roman')\n",
        "\n",
        "plt.xticks(fontsize=18, fontname='Times New Roman')\n",
        "plt.yticks(fontsize=18, fontname='Times New Roman')\n",
        "plt.ylim([0.1,0.32])\n",
        "\n",
        "plt.legend(prop={'family': 'Times New Roman', 'size': 20})\n",
        "plt.grid(True, alpha=0.5)\n",
        "plt.savefig(\"train_val_curves.png\", dpi=360, bbox_inches='tight')\n",
        "plt.show()"
      ]
    }
  ],
  "metadata": {
    "accelerator": "GPU",
    "colab": {
      "collapsed_sections": [
        "2ApSRdYKhCtq"
      ],
      "gpuType": "T4",
      "provenance": []
    },
    "kernelspec": {
      "display_name": "ofa_adv",
      "language": "python",
      "name": "python3"
    },
    "language_info": {
      "codemirror_mode": {
        "name": "ipython",
        "version": 3
      },
      "file_extension": ".py",
      "mimetype": "text/x-python",
      "name": "python",
      "nbconvert_exporter": "python",
      "pygments_lexer": "ipython3",
      "version": "3.8.20"
    }
  },
  "nbformat": 4,
  "nbformat_minor": 0
}
